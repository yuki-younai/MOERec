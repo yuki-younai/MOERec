{
 "cells": [
  {
   "cell_type": "code",
   "execution_count": 30,
   "metadata": {},
   "outputs": [],
   "source": [
    "import sys\n",
    "from tqdm import tqdm\n",
    "import pdb\n",
    "import torch\n",
    "import logging\n",
    "import numpy as np\n",
    "import dgl\n",
    "from torch.utils.data import Dataset, DataLoader\n",
    "from scipy.sparse import coo_matrix, csr_matrix\n",
    "from sklearn.model_selection import train_test_split\n",
    "import random"
   ]
  },
  {
   "cell_type": "code",
   "execution_count": 4,
   "metadata": {},
   "outputs": [],
   "source": [
    "train_path = 'train.txt'\n",
    "val_path = 'val.txt'\n",
    "test_path = 'test.txt'\n",
    "category_path = 'item_category.txt'"
   ]
  },
  {
   "cell_type": "code",
   "execution_count": 10,
   "metadata": {},
   "outputs": [
    {
     "name": "stderr",
     "output_type": "stream",
     "text": [
      "100%|██████████| 136710/136710 [00:00<00:00, 1510645.59it/s]\n",
      "100%|██████████| 2571752/2571752 [00:02<00:00, 1035634.55it/s]\n",
      "100%|██████████| 845781/845781 [00:00<00:00, 1073600.80it/s]\n",
      "100%|██████████| 813098/813098 [00:00<00:00, 1035173.52it/s]\n"
     ]
    }
   ],
   "source": [
    "historical_dict = {}\n",
    "cat_dict={}\n",
    "dic = {}\n",
    "with open(category_path, 'r') as f:\n",
    "    lines = f.readlines()\n",
    "    for line in tqdm(lines):\n",
    "        line = line.strip().split(',')\n",
    "        item = int(line[0])\n",
    "        category = int(line[1])            \n",
    "        dic[item] = category\n",
    "with open(train_path, 'r') as f:\n",
    "    lines = f.readlines()\n",
    "    for line in tqdm(lines):\n",
    "        line = line.strip().split(',')\n",
    "        user = int(line[0])\n",
    "        item = int(line[1])\n",
    "        if user in historical_dict:\n",
    "           historical_dict[user].append(item)\n",
    "           cat_dict[user].append(dic[item])\n",
    "        else:\n",
    "           historical_dict[user] = [item]\n",
    "           cat_dict[user]=[dic[item]]\n",
    "with open(val_path, 'r') as f:\n",
    "    lines = f.readlines()\n",
    "    for line in tqdm(lines):\n",
    "        line = line.strip().split(',')\n",
    "        user = int(line[0])\n",
    "        item = int(line[1])\n",
    "        if user in historical_dict:\n",
    "           historical_dict[user].append(item)\n",
    "           cat_dict[user].append(dic[item])\n",
    "        else:\n",
    "           historical_dict[user] = [item]\n",
    "           cat_dict[user]=[dic[item]]\n",
    "with open(test_path, 'r') as f:\n",
    "    lines = f.readlines()\n",
    "    for line in tqdm(lines):\n",
    "        line = line.strip().split(',')\n",
    "        user = int(line[0])\n",
    "        item = int(line[1])\n",
    "        if user in historical_dict:\n",
    "           historical_dict[user].append(item)\n",
    "           cat_dict[user].append(dic[item])\n",
    "        else:\n",
    "           historical_dict[user] = [item]     \n",
    "           cat_dict[user]=[dic[item]]    "
   ]
  },
  {
   "cell_type": "code",
   "execution_count": 11,
   "metadata": {},
   "outputs": [
    {
     "name": "stdout",
     "output_type": "stream",
     "text": [
      "[0, 1, 4, 5, 4, 5, 1, 7, 5, 8, 11, 5, 5, 5, 5, 12, 6, 6, 6, 9, 10, 2, 3, 2, 2, 10]\n",
      "[0, 1, 5, 6, 7, 8, 10, 14, 15, 16, 19, 20, 21, 22, 23, 25, 9, 12, 13, 17, 24, 2, 3, 4, 11, 18]\n"
     ]
    }
   ],
   "source": [
    "print(cat_dict[0])\n",
    "print(historical_dict[0])"
   ]
  },
  {
   "cell_type": "code",
   "execution_count": 63,
   "metadata": {},
   "outputs": [],
   "source": [
    "train={}\n",
    "test={}\n",
    "val={}\n",
    "\n",
    "for i in historical_dict.keys():\n",
    "    train[i]=[-1]\n",
    "    test[i]=[-1]\n",
    "    val[i]=[-1]\n",
    "    unique_elements = list(set(cat_dict[i]))\n",
    "    element_counts = [cat_dict[i].count(element) for element in unique_elements]\n",
    "    element_indices = {}\n",
    "    for index, element in enumerate(cat_dict[i]):\n",
    "        if element in element_indices:\n",
    "            element_indices[element].append(index)\n",
    "        else:\n",
    "            element_indices[element] = [index]\n",
    "    \n",
    "    for j in unique_elements:\n",
    "        my_list=element_indices[j]\n",
    "        if(len(my_list)<=3):\n",
    "            for k in my_list:\n",
    "                rand=random.random()\n",
    "                if rand<0.6:\n",
    "                    train[i].append(historical_dict[i][k])\n",
    "                elif rand>0.6 and rand<0.8:\n",
    "                    test[i].append(historical_dict[i][k])\n",
    "                else:\n",
    "                    val[i].append(historical_dict[i][k])\n",
    "        else:\n",
    "            result_list = [historical_dict[i][index] for index in my_list]\n",
    "            train_sp,temp_sp,_,_=train_test_split(result_list, result_list, test_size=0.4, random_state=42)\n",
    "            train[i]+=train_sp\n",
    "            test_sp,val_sp,_,_=train_test_split(temp_sp, temp_sp, test_size=0.5, random_state=42)\n",
    "            test[i]+=test_sp\n",
    "            val[i]+=val_sp"
   ]
  },
  {
   "cell_type": "code",
   "execution_count": 64,
   "metadata": {},
   "outputs": [
    {
     "name": "stdout",
     "output_type": "stream",
     "text": [
      "[17405, 12116, 29694, 88278, 93464, 57600, 134994, 123631, 103594, 79643, 115140, 108404]\n",
      "[182, 467, 467, 965, 265, 4, 908, 965, 392, 324, 322, 322]\n",
      "[322, 4, 965, 324, 392, 265, 908, 467, 182]\n",
      "[2, 1, 2, 1, 1, 1, 1, 2, 1]\n",
      "{182: [0], 467: [1, 2], 965: [3, 7], 265: [4], 4: [5], 908: [6], 392: [8], 324: [9], 322: [10, 11]}\n",
      "[-1, 108404, 88278, 123631, 93464, 134994, 29694]\n",
      "[-1, 12116, 17405]\n",
      "[-1, 115140, 57600, 79643, 103594]\n"
     ]
    }
   ],
   "source": [
    "print(historical_dict[i])\n",
    "print(cat_dict[i])\n",
    "print(unique_elements)\n",
    "print(element_counts)\n",
    "print(element_indices)\n",
    "print(train[i])\n",
    "print(test[i])\n",
    "print(val[i])"
   ]
  },
  {
   "cell_type": "code",
   "execution_count": 67,
   "metadata": {},
   "outputs": [],
   "source": [
    "file_path = \"train_v2.txt\"\n",
    "train_num=0\n",
    "test_num=0\n",
    "val_num=0\n",
    "with open(file_path, \"w\") as file:\n",
    "    for user in train.keys():\n",
    "        for item in train[user]:\n",
    "            if item==-1:\n",
    "                continue\n",
    "            else:\n",
    "                train_num+=1\n",
    "                file.write(str(user)+','+str(item)+\"\\n\")\n",
    "file_path = \"test_v2.txt\"\n",
    "with open(file_path, \"w\") as file:\n",
    "    for user in test.keys():\n",
    "        for item in train[user]:\n",
    "            if item==-1:\n",
    "                continue\n",
    "            else:\n",
    "                test_num+=1\n",
    "                file.write(str(user)+','+str(item)+\"\\n\")\n",
    "file_path = \"val_v2.txt\"\n",
    "with open(file_path, \"w\") as file:\n",
    "    for user in val.keys():\n",
    "        for item in train[user]:\n",
    "            if item==-1:\n",
    "                continue\n",
    "            else:\n",
    "                val_num+=1\n",
    "                file.write(str(user)+','+str(item)+\"\\n\")\n",
    "        "
   ]
  }
 ],
 "metadata": {
  "kernelspec": {
   "display_name": "PyTorch",
   "language": "python",
   "name": "python3"
  },
  "language_info": {
   "codemirror_mode": {
    "name": "ipython",
    "version": 3
   },
   "file_extension": ".py",
   "mimetype": "text/x-python",
   "name": "python",
   "nbconvert_exporter": "python",
   "pygments_lexer": "ipython3",
   "version": "3.8.16"
  },
  "orig_nbformat": 4
 },
 "nbformat": 4,
 "nbformat_minor": 2
}
