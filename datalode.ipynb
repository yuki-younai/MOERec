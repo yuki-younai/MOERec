{
 "cells": [
  {
   "cell_type": "code",
   "execution_count": 1,
   "metadata": {},
   "outputs": [],
   "source": [
    "import sys\n",
    "from tqdm import tqdm\n",
    "import pdb\n",
    "import torch\n",
    "import logging\n",
    "import numpy as np\n",
    "import dgl\n",
    "from torch.utils.data import Dataset, DataLoader\n",
    "from scipy.sparse import coo_matrix, csr_matrix"
   ]
  },
  {
   "cell_type": "code",
   "execution_count": 2,
   "metadata": {},
   "outputs": [],
   "source": [
    "data='TaoBao'\n",
    "train_path = './datasets/' + data + '/train.txt'\n",
    "val_path = './datasets/' + data + '/val.txt'\n",
    "test_path = './datasets/' + data + '/test.txt'\n",
    "category_path = './datasets/' + data + '/item_category.txt'\n",
    "\n"
   ]
  },
  {
   "cell_type": "code",
   "execution_count": 3,
   "metadata": {},
   "outputs": [
    {
     "name": "stderr",
     "output_type": "stream",
     "text": [
      "100%|██████████| 136710/136710 [00:07<00:00, 19324.58it/s]\n"
     ]
    }
   ],
   "source": [
    "def read_category(path):\n",
    "        num = 0\n",
    "        dic = {}\n",
    "        with open(path, 'r') as f:\n",
    "            lines = f.readlines()\n",
    "            for line in tqdm(lines):\n",
    "                line = line.strip().split(',')\n",
    "                item = int(line[0])\n",
    "                category = int(line[1])\n",
    "                if category not in dic.values():\n",
    "                    num += 1\n",
    "                dic[item] = category\n",
    "        return dic, num\n",
    "category_dic, category_num = read_category(category_path)\n"
   ]
  },
  {
   "cell_type": "code",
   "execution_count": null,
   "metadata": {},
   "outputs": [],
   "source": [
    "def read_train_graph(path):\n",
    "        historical_dict = []\n",
    "        train_data = []\n",
    "        with open(path, 'r') as f:\n",
    "            lines = f.readlines()\n",
    "            for line in tqdm(lines):\n",
    "                line = line.strip().split(',')\n",
    "                user = int(line[0])\n",
    "                item = int(line[1])\n",
    "                if user in historical_dict:\n",
    "                    historical_dict[user].add(item)\n",
    "                else:\n",
    "                    historical_dict[user] = set([item])\n",
    "        return historical_dict\n"
   ]
  },
  {
   "cell_type": "code",
   "execution_count": 34,
   "metadata": {},
   "outputs": [],
   "source": [
    "def read_train_graph(path):\n",
    "        historical_dict = []\n",
    "        train_data = []\n",
    "        with open(path, 'r') as f:\n",
    "            lines = f.readlines()\n",
    "            for line in tqdm(lines):\n",
    "                line = line.strip().split(',')\n",
    "                user = int(line[0])\n",
    "                item = int(line[1])\n",
    "                train_data.append([user, item])\n",
    "\n",
    "                if user in historical_dict:\n",
    "                    historical_dict[user].add(item)\n",
    "                else:\n",
    "                    historical_dict[user] = set([item])\n",
    "\n",
    "        train_data = torch.tensor(train_data)\n",
    "        user_number = max(user_number, train_data[:, 0].max() + 1)\n",
    "        item_number = max(item_number, train_data[:, 1].max() + 1)\n",
    "\n",
    "        graph_data = {\n",
    "            ('user', 'rate', 'item'): (train_data[:, 0].long(), train_data[:, 1].long()),\n",
    "            ('item', 'rated by', 'user'): (train_data[:, 1].long(), train_data[:, 0].long())\n",
    "        }\n",
    "        graph = dgl.heterograph(graph_data)\n",
    "        category_tensor = torch.tensor(list(category_dic.values()), dtype = torch.long).unsqueeze(1)\n",
    "        graph.ndata['category'] = {'item': category_tensor, 'user': torch.zeros(user_number, 1) - 1}\n",
    "\n",
    "        return graph"
   ]
  },
  {
   "cell_type": "code",
   "execution_count": 35,
   "metadata": {},
   "outputs": [
    {
     "name": "stderr",
     "output_type": "stream",
     "text": [
      "100%|██████████| 2571752/2571752 [00:05<00:00, 468459.10it/s]\n"
     ]
    }
   ],
   "source": [
    "historical_dict = []\n",
    "train_data = []\n",
    "with open(train_path, 'r') as f:\n",
    "    lines = f.readlines()\n",
    "    for line in tqdm(lines):\n",
    "            line = line.strip().split(',')\n",
    "            user = int(line[0])\n",
    "            item = int(line[1])\n",
    "            train_data.append([user, item])\n",
    "\n",
    "            if user in historical_dict:\n",
    "                historical_dict[user].append(category_dic[item])\n",
    "            else:\n",
    "                historical_dict[user] =[category_dic[item]]\n",
    "    \n"
   ]
  },
  {
   "cell_type": "code",
   "execution_count": 93,
   "metadata": {},
   "outputs": [
    {
     "name": "stderr",
     "output_type": "stream",
     "text": [
      "100%|██████████| 82633/82633 [00:04<00:00, 19986.96it/s]\n"
     ]
    }
   ],
   "source": [
    "import math\n",
    "import random\n",
    "user_select=[]\n",
    "maxlen=20\n",
    "cout=0\n",
    "for line in tqdm(historical_dict.values()):\n",
    "    select=[]\n",
    "    unique_elements = list(set(line))\n",
    "    element_counts = [line.count(element) for element in unique_elements]\n",
    "    element_indices = {}\n",
    "    for index, element in enumerate(line):\n",
    "        if element in element_indices:\n",
    "            element_indices[element].append(index)\n",
    "        else:\n",
    "            element_indices[element] = [index]\n",
    "    avg=math.ceil(sum(element_counts)/len(element_counts))\n",
    "    \n",
    "    sorted_indices = sorted(range(len(element_counts)), key=lambda i: element_counts[i], reverse=True)\n",
    "    \n",
    "    for i in sorted_indices:\n",
    "        my_list=element_indices[unique_elements[i]]\n",
    "        if int(len(my_list)/2)>avg:\n",
    "            \n",
    "            random_elements = random.sample(my_list,int(len(my_list)/2))\n",
    "        else:\n",
    "            random_elements=random.sample(my_list, k=min(avg,len(my_list)))\n",
    "        select=select+random_elements\n",
    "    if len(select)>=maxlen:\n",
    "        select=select[0:maxlen]\n",
    "    else:\n",
    "        select=select+select[0:maxlen-len(select)]\n",
    "        cout=cout+1\n",
    "    user_select.append(select)\n",
    "    \n"
   ]
  },
  {
   "cell_type": "code",
   "execution_count": 94,
   "metadata": {},
   "outputs": [
    {
     "data": {
      "text/plain": [
       "43762"
      ]
     },
     "execution_count": 94,
     "metadata": {},
     "output_type": "execute_result"
    }
   ],
   "source": [
    "cout"
   ]
  },
  {
   "cell_type": "code",
   "execution_count": 70,
   "metadata": {},
   "outputs": [
    {
     "name": "stdout",
     "output_type": "stream",
     "text": [
      "[0, 1, 4, 5, 4, 5, 1, 7, 5, 8, 11, 5, 5, 5, 5, 12]\n",
      "[0, 1, 4, 5, 7, 8, 11, 12]\n",
      "[1, 2, 2, 7, 1, 1, 1, 1]\n",
      "[7, 2, 2, 1]\n",
      "[3, 1, 2, 0]\n"
     ]
    }
   ],
   "source": [
    "print(line)\n",
    "print(unique_elements)\n",
    "print(element_counts)\n",
    "print(top_5_elements)\n",
    "print(top_5_indices)"
   ]
  },
  {
   "cell_type": "code",
   "execution_count": 71,
   "metadata": {},
   "outputs": [
    {
     "name": "stdout",
     "output_type": "stream",
     "text": [
      "{0: [0], 1: [1, 6], 4: [2, 4], 5: [3, 5, 8, 11, 12, 13, 14], 7: [7], 8: [9], 11: [10], 12: [15]}\n"
     ]
    }
   ],
   "source": [
    "print(element_indices)"
   ]
  },
  {
   "cell_type": "code",
   "execution_count": 72,
   "metadata": {},
   "outputs": [
    {
     "name": "stdout",
     "output_type": "stream",
     "text": [
      "[[3, 8, 1, 6, 2, 4, 0]]\n"
     ]
    }
   ],
   "source": [
    "print(user_select)"
   ]
  },
  {
   "cell_type": "code",
   "execution_count": 79,
   "metadata": {},
   "outputs": [
    {
     "name": "stdout",
     "output_type": "stream",
     "text": [
      "[4]\n"
     ]
    }
   ],
   "source": [
    "a=[1,2,3,4]\n",
    "print(a[-1:])"
   ]
  }
 ],
 "metadata": {
  "kernelspec": {
   "display_name": "PyTorch",
   "language": "python",
   "name": "python3"
  },
  "language_info": {
   "codemirror_mode": {
    "name": "ipython",
    "version": 3
   },
   "file_extension": ".py",
   "mimetype": "text/x-python",
   "name": "python",
   "nbconvert_exporter": "python",
   "pygments_lexer": "ipython3",
   "version": "3.8.16"
  },
  "orig_nbformat": 4
 },
 "nbformat": 4,
 "nbformat_minor": 2
}
