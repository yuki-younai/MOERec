{
 "cells": [
  {
   "cell_type": "code",
   "execution_count": 1,
   "metadata": {},
   "outputs": [],
   "source": [
    "import sys\n",
    "import dgl\n",
    "import dgl.function as fn\n",
    "import os\n",
    "import multiprocessing as mp\n",
    "from tqdm import tqdm\n",
    "import pdb\n",
    "import numpy as np\n",
    "import torch\n",
    "import torch.nn as nn\n",
    "import logging\n",
    "from utils.parser import parse_args\n",
    "from utils.dataloader import Dataloader\n",
    "from utils.utils import config, construct_negative_graph, choose_model, load_mf_model, NegativeGraph\n",
    "from utils.tester import Tester\n",
    "from models.sampler import NegativeSampler\n",
    "import wandb\n",
    "import math"
   ]
  },
  {
   "cell_type": "code",
   "execution_count": 34,
   "metadata": {},
   "outputs": [],
   "source": [
    "numbers=[8,4,2,2,2,2,1,1]\n",
    "square_sum=math.sqrt(sum(i**2 for i in numbers))\n",
    "numbers = [x / square_sum for x in numbers]\n",
    "\n",
    "ma=1.2*max(numbers)\n",
    "mi=0.3*min(numbers)\n",
    "\n",
    "result=[(x-mi) /(ma-mi) for x in numbers]\n",
    "\n",
    "\n",
    "result = [x / sum(result) for x in result]"
   ]
  },
  {
   "cell_type": "code",
   "execution_count": 64,
   "metadata": {},
   "outputs": [],
   "source": [
    "numbers=[8,4,2,2,2,2,1,1]\n",
    "square_sum=math.sqrt(sum(i**2 for i in numbers))\n",
    "numbers = [math.exp(x/square_sum) for x in numbers]\n",
    "ma=max(numbers)\n",
    "mi=0.2*min(numbers)\n",
    "result=[(x-mi) /(ma-mi) for x in numbers]\n",
    "result = [x / sum(result) for x in result]\n",
    "result=[int(x*20) for x in result]\n"
   ]
  },
  {
   "cell_type": "code",
   "execution_count": 65,
   "metadata": {},
   "outputs": [
    {
     "data": {
      "text/plain": [
       "[4, 2, 2, 2, 2, 2, 1, 1]"
      ]
     },
     "execution_count": 65,
     "metadata": {},
     "output_type": "execute_result"
    }
   ],
   "source": [
    "result"
   ]
  },
  {
   "cell_type": "code",
   "execution_count": 2,
   "metadata": {},
   "outputs": [],
   "source": [
    "def pairwise_cosine_similarity(x, y, zero_diagonal: bool = False):\n",
    "    r\"\"\"\n",
    "    Calculates the pairwise cosine similarity matrix\n",
    "\n",
    "    Args:\n",
    "        x: tensor of shape ``(batch_size, M, d)``\n",
    "        y: tensor of shape ``(batch_size, N, d)``\n",
    "        zero_diagonal: determines if the diagonal of the distance matrix should be set to zero\n",
    "\n",
    "    Returns:\n",
    "        A tensor of shape ``(batch_size, M, N)``\n",
    "    \"\"\"\n",
    "    x_norm = torch.linalg.norm(x, dim=2, keepdim=True)\n",
    "    y_norm = torch.linalg.norm(y, dim=2, keepdim=True)\n",
    "    distance = torch.matmul(torch.div(x, x_norm), torch.div(y, y_norm).permute(0, 2, 1))\n",
    "    \n",
    "\n",
    "    return distance"
   ]
  },
  {
   "cell_type": "code",
   "execution_count": 13,
   "metadata": {},
   "outputs": [],
   "source": [
    "x=torch.randn(2,4,32)\n",
    "y=x\n",
    "z=pairwise_cosine_similarity(x,y)"
   ]
  },
  {
   "cell_type": "code",
   "execution_count": 14,
   "metadata": {},
   "outputs": [
    {
     "name": "stdout",
     "output_type": "stream",
     "text": [
      "tensor([[[-5.8162e-01, -2.6666e-01,  1.0256e+00,  8.9986e-01,  2.7631e-01,\n",
      "          -7.9958e-01,  9.9497e-01,  3.3882e+00,  1.3090e+00,  6.6969e-01,\n",
      "           1.7313e-01, -1.2706e+00,  2.5242e-02,  2.9491e-01, -3.2103e-02,\n",
      "          -4.5134e-01,  1.5261e+00,  1.3115e+00,  8.1811e-01, -1.3548e+00,\n",
      "           1.8962e-01, -1.0528e+00,  6.7586e-01, -1.2010e+00, -2.2413e-01,\n",
      "           9.6009e-01, -3.8757e-01, -8.1501e-02, -1.4957e+00,  6.4385e-01,\n",
      "           2.4550e+00, -3.3716e-01],\n",
      "         [-8.3052e-01,  1.0879e+00, -1.0570e+00, -1.1876e+00,  2.2608e+00,\n",
      "          -1.2130e-01,  1.5487e+00, -8.5721e-01, -6.5706e-01,  2.0620e+00,\n",
      "          -1.3625e+00, -7.1285e-01,  1.5581e-02, -1.7115e+00,  1.0161e+00,\n",
      "          -4.9889e-01,  1.8547e-02,  6.9482e-01,  3.3283e-01, -1.0374e+00,\n",
      "          -3.0869e-01,  2.6472e+00, -1.0618e+00,  6.7666e-01, -8.2017e-01,\n",
      "          -4.4604e-01, -5.7727e-01, -1.6490e-01,  9.4377e-02,  1.0181e+00,\n",
      "          -9.3273e-01,  2.0615e+00],\n",
      "         [ 4.8081e-01,  3.9029e-01,  3.1890e-01, -1.1508e+00,  1.8683e-02,\n",
      "           2.0736e-01, -3.2585e+00,  2.5199e-02, -1.6033e+00, -1.2859e-01,\n",
      "          -4.4501e-01,  6.5376e-01, -1.9670e-01, -1.2540e+00, -1.3136e-01,\n",
      "           9.6789e-01,  2.1043e+00,  1.1813e+00,  1.0013e-01,  6.5470e-01,\n",
      "           2.0067e-01, -4.2278e-01,  2.1790e+00,  6.0506e-01, -9.3021e-03,\n",
      "          -2.1699e-01,  8.3964e-01, -1.0601e+00,  6.2783e-01,  3.0686e-01,\n",
      "           1.1122e+00, -7.0416e-01],\n",
      "         [-6.0284e-01,  1.3181e-01, -6.3133e-01,  3.5619e-01,  2.3348e+00,\n",
      "           1.1214e-01,  1.1441e+00, -6.0051e-01, -7.0948e-01, -8.6805e-01,\n",
      "           8.6482e-01,  3.0608e-01, -4.4344e-01,  1.8862e+00,  2.0983e-03,\n",
      "           8.8118e-01, -1.5484e-01, -3.1308e-01,  5.2288e-01,  2.7747e+00,\n",
      "          -4.5678e-01, -5.8697e-01,  1.0217e-01,  7.1594e-01,  1.9550e-01,\n",
      "          -4.0420e-01, -8.4151e-01, -1.7430e+00,  6.4823e-01,  2.1338e-01,\n",
      "          -1.0230e+00, -9.5287e-01]],\n",
      "\n",
      "        [[ 2.0463e-01, -1.4427e+00,  7.0697e-01,  9.5598e-01,  1.1456e+00,\n",
      "           1.8832e-02,  8.3253e-01,  1.0935e+00,  1.3838e+00, -3.5069e-02,\n",
      "           1.0173e+00,  9.7005e-01, -1.6034e+00,  9.0055e-01,  2.8025e-01,\n",
      "           6.6671e-01,  1.1118e+00, -2.2956e-01, -8.2148e-01,  1.7200e-01,\n",
      "          -3.8526e-01, -1.0031e+00, -9.5429e-02, -1.2207e+00, -2.2850e-01,\n",
      "           8.6911e-01,  3.8025e-01, -8.2462e-01,  1.3897e+00, -1.2140e+00,\n",
      "          -2.5457e-01,  4.3211e-01],\n",
      "         [ 2.4790e-01,  4.9912e-01,  8.6943e-01,  1.6985e-01, -9.4581e-01,\n",
      "           1.1918e+00,  5.5999e-01,  5.7688e-01,  7.0226e-01,  3.2890e-01,\n",
      "          -8.6586e-01,  4.8540e-01,  1.3030e+00, -8.8769e-01, -8.4252e-01,\n",
      "          -2.8404e-01,  1.2004e-02, -6.7121e-01, -5.9678e-01,  1.0080e+00,\n",
      "           8.7120e-01, -7.8171e-01, -1.7252e+00, -1.5690e-01,  3.9743e-02,\n",
      "          -3.3654e-01, -1.3290e+00, -9.1222e-01, -1.2817e-01,  5.9046e-01,\n",
      "          -7.6444e-01,  1.3317e+00],\n",
      "         [ 1.2876e+00,  1.4517e+00,  2.0556e+00, -1.8565e+00,  2.4586e-02,\n",
      "          -4.4713e-01,  7.2612e-02, -2.2957e-01, -1.3084e+00,  4.5461e-01,\n",
      "          -5.9936e-01, -9.1978e-01, -1.3994e-01, -1.3573e-01, -6.4147e-01,\n",
      "           7.8902e-01, -1.8931e+00, -1.3991e-01, -1.2130e+00,  7.1871e-01,\n",
      "           3.1727e-01,  8.2668e-02,  6.0215e-01, -7.0834e-01, -6.1344e-01,\n",
      "          -7.1416e-02, -6.5577e-01, -8.2986e-01,  2.1690e+00, -2.0857e+00,\n",
      "          -6.6107e-01, -2.4823e-01],\n",
      "         [ 1.2329e+00,  7.8542e-01, -7.7732e-01,  6.2862e-01, -1.3582e+00,\n",
      "           6.8981e-01, -2.7072e-01,  1.0444e+00,  2.7650e-01, -6.8966e-01,\n",
      "          -8.9318e-01, -1.5200e+00, -1.2923e-01, -3.2839e-01,  8.7241e-01,\n",
      "           1.7630e+00,  1.6251e+00, -8.9970e-01, -1.7049e+00,  4.3730e-01,\n",
      "           8.2719e-01,  1.6998e+00, -4.4799e-01, -1.0833e+00, -4.4620e-01,\n",
      "          -2.1398e+00, -1.1350e+00,  1.4415e+00, -1.4573e-01, -1.5076e+00,\n",
      "           1.5170e+00,  1.4523e+00]]])\n"
     ]
    }
   ],
   "source": [
    "print(x)"
   ]
  },
  {
   "cell_type": "code",
   "execution_count": 16,
   "metadata": {},
   "outputs": [
    {
     "name": "stdout",
     "output_type": "stream",
     "text": [
      "torch.Size([2, 4, 4])\n",
      "tensor([[0.1581],\n",
      "        [0.2868]])\n",
      "tensor([[0.1371, 0.1553, 0.1830, 0.1571],\n",
      "        [0.2358, 0.3025, 0.3012, 0.3075]])\n"
     ]
    }
   ],
   "source": [
    "print(z.shape)\n",
    "print(z.mean(dim=2).mean(dim=1).unsqueeze(dim=1))\n",
    "print(z.mean(dim=2))"
   ]
  }
 ],
 "metadata": {
  "kernelspec": {
   "display_name": "PyTorch",
   "language": "python",
   "name": "python3"
  },
  "language_info": {
   "codemirror_mode": {
    "name": "ipython",
    "version": 3
   },
   "file_extension": ".py",
   "mimetype": "text/x-python",
   "name": "python",
   "nbconvert_exporter": "python",
   "pygments_lexer": "ipython3",
   "version": "3.8.16"
  },
  "orig_nbformat": 4
 },
 "nbformat": 4,
 "nbformat_minor": 2
}
