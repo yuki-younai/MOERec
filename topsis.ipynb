{
 "cells": [
  {
   "cell_type": "code",
   "execution_count": 1,
   "metadata": {},
   "outputs": [],
   "source": [
    "import sys\n",
    "import dgl\n",
    "import dgl.function as fn\n",
    "import os\n",
    "import multiprocessing as mp\n",
    "from tqdm import tqdm\n",
    "import pdb\n",
    "import numpy as np\n",
    "import torch\n",
    "import torch.nn as nn\n",
    "import logging\n",
    "from utils.parser import parse_args\n",
    "from utils.dataloader import Dataloader\n",
    "from utils.utils import config, construct_negative_graph, choose_model, load_mf_model, NegativeGraph\n",
    "from utils.tester import Tester\n",
    "from models.sampler import NegativeSampler\n",
    "import wandb\n",
    "import math"
   ]
  },
  {
   "cell_type": "code",
   "execution_count": 34,
   "metadata": {},
   "outputs": [],
   "source": [
    "numbers=[8,4,2,2,2,2,1,1]\n",
    "square_sum=math.sqrt(sum(i**2 for i in numbers))\n",
    "numbers = [x / square_sum for x in numbers]\n",
    "\n",
    "ma=1.2*max(numbers)\n",
    "mi=0.3*min(numbers)\n",
    "\n",
    "result=[(x-mi) /(ma-mi) for x in numbers]\n",
    "\n",
    "\n",
    "result = [x / sum(result) for x in result]"
   ]
  },
  {
   "cell_type": "code",
   "execution_count": 64,
   "metadata": {},
   "outputs": [],
   "source": [
    "numbers=[8,4,2,2,2,2,1,1]\n",
    "square_sum=math.sqrt(sum(i**2 for i in numbers))\n",
    "numbers = [math.exp(x/square_sum) for x in numbers]\n",
    "ma=max(numbers)\n",
    "mi=0.2*min(numbers)\n",
    "result=[(x-mi) /(ma-mi) for x in numbers]\n",
    "result = [x / sum(result) for x in result]\n",
    "result=[int(x*20) for x in result]\n"
   ]
  },
  {
   "cell_type": "code",
   "execution_count": 65,
   "metadata": {},
   "outputs": [
    {
     "data": {
      "text/plain": [
       "[4, 2, 2, 2, 2, 2, 1, 1]"
      ]
     },
     "execution_count": 65,
     "metadata": {},
     "output_type": "execute_result"
    }
   ],
   "source": [
    "result"
   ]
  },
  {
   "cell_type": "code",
   "execution_count": 3,
   "metadata": {},
   "outputs": [],
   "source": [
    "def pairwise_cosine_similarity(x, y, zero_diagonal: bool = False):\n",
    "    r\"\"\"\n",
    "    Calculates the pairwise cosine similarity matrix\n",
    "\n",
    "    Args:\n",
    "        x: tensor of shape ``(batch_size, M, d)``\n",
    "        y: tensor of shape ``(batch_size, N, d)``\n",
    "        zero_diagonal: determines if the diagonal of the distance matrix should be set to zero\n",
    "\n",
    "    Returns:\n",
    "        A tensor of shape ``(batch_size, M, N)``\n",
    "    \"\"\"\n",
    "    x_norm = torch.linalg.norm(x, dim=2, keepdim=True)\n",
    "    y_norm = torch.linalg.norm(y, dim=2, keepdim=True)\n",
    "    distance = torch.matmul(torch.div(x, x_norm), torch.div(y, y_norm).permute(0, 2, 1))\n",
    "    \n",
    "\n",
    "    return distance"
   ]
  },
  {
   "cell_type": "code",
   "execution_count": 4,
   "metadata": {},
   "outputs": [],
   "source": [
    "x=torch.randn(2,4,2)\n",
    "y=x\n",
    "z=pairwise_cosine_similarity(x,y)"
   ]
  },
  {
   "cell_type": "code",
   "execution_count": 6,
   "metadata": {},
   "outputs": [
    {
     "name": "stdout",
     "output_type": "stream",
     "text": [
      "tensor([[[ 1.0000,  0.9999,  0.7630,  0.6927],\n",
      "         [ 0.9999,  1.0000,  0.7550,  0.7015],\n",
      "         [ 0.7630,  0.7550,  1.0000,  0.0624],\n",
      "         [ 0.6927,  0.7015,  0.0624,  1.0000]],\n",
      "\n",
      "        [[ 1.0000, -0.8350,  0.9246, -0.5884],\n",
      "         [-0.8350,  1.0000, -0.5625,  0.9362],\n",
      "         [ 0.9246, -0.5625,  1.0000, -0.2361],\n",
      "         [-0.5884,  0.9362, -0.2361,  1.0000]]])\n",
      "tensor([[[0.8639],\n",
      "         [0.8641],\n",
      "         [0.6451],\n",
      "         [0.6142]],\n",
      "\n",
      "        [[0.1253],\n",
      "         [0.1347],\n",
      "         [0.2815],\n",
      "         [0.2779]]])\n"
     ]
    }
   ],
   "source": [
    "print(z)\n",
    "print(z.mean(dim=2).unsqueeze(dim=2))"
   ]
  }
 ],
 "metadata": {
  "kernelspec": {
   "display_name": "PyTorch",
   "language": "python",
   "name": "python3"
  },
  "language_info": {
   "codemirror_mode": {
    "name": "ipython",
    "version": 3
   },
   "file_extension": ".py",
   "mimetype": "text/x-python",
   "name": "python",
   "nbconvert_exporter": "python",
   "pygments_lexer": "ipython3",
   "version": "3.8.16"
  },
  "orig_nbformat": 4
 },
 "nbformat": 4,
 "nbformat_minor": 2
}
