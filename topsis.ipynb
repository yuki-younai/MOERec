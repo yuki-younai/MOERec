{
 "cells": [
  {
   "cell_type": "code",
   "execution_count": 1,
   "metadata": {},
   "outputs": [
    {
     "ename": "FileNotFoundError",
     "evalue": "Could not find module 'd:\\environment\\conda-c\\envs\\PyTorch\\lib\\site-packages\\dgl\\dgl.dll' (or one of its dependencies). Try using the full path with constructor syntax.",
     "output_type": "error",
     "traceback": [
      "\u001b[1;31m---------------------------------------------------------------------------\u001b[0m",
      "\u001b[1;31mFileNotFoundError\u001b[0m                         Traceback (most recent call last)",
      "Cell \u001b[1;32mIn[1], line 2\u001b[0m\n\u001b[0;32m      1\u001b[0m \u001b[39mimport\u001b[39;00m \u001b[39msys\u001b[39;00m\n\u001b[1;32m----> 2\u001b[0m \u001b[39mimport\u001b[39;00m \u001b[39mdgl\u001b[39;00m\n\u001b[0;32m      3\u001b[0m \u001b[39mimport\u001b[39;00m \u001b[39mdgl\u001b[39;00m\u001b[39m.\u001b[39;00m\u001b[39mfunction\u001b[39;00m \u001b[39mas\u001b[39;00m \u001b[39mfn\u001b[39;00m\n\u001b[0;32m      4\u001b[0m \u001b[39mimport\u001b[39;00m \u001b[39mos\u001b[39;00m\n",
      "File \u001b[1;32md:\\environment\\conda-c\\envs\\PyTorch\\lib\\site-packages\\dgl\\__init__.py:14\u001b[0m\n\u001b[0;32m     12\u001b[0m \u001b[39m# Backend and logging should be imported before other modules.\u001b[39;00m\n\u001b[0;32m     13\u001b[0m \u001b[39mfrom\u001b[39;00m \u001b[39m.\u001b[39;00m\u001b[39mlogging\u001b[39;00m \u001b[39mimport\u001b[39;00m enable_verbose_logging  \u001b[39m# usort: skip\u001b[39;00m\n\u001b[1;32m---> 14\u001b[0m \u001b[39mfrom\u001b[39;00m \u001b[39m.\u001b[39;00m\u001b[39mbackend\u001b[39;00m \u001b[39mimport\u001b[39;00m backend_name, load_backend  \u001b[39m# usort: skip\u001b[39;00m\n\u001b[0;32m     16\u001b[0m \u001b[39mfrom\u001b[39;00m \u001b[39m.\u001b[39;00m \u001b[39mimport\u001b[39;00m (\n\u001b[0;32m     17\u001b[0m     container,\n\u001b[0;32m     18\u001b[0m     cuda,\n\u001b[1;32m   (...)\u001b[0m\n\u001b[0;32m     25\u001b[0m     storages,\n\u001b[0;32m     26\u001b[0m )\n\u001b[0;32m     27\u001b[0m \u001b[39mfrom\u001b[39;00m \u001b[39m.\u001b[39;00m\u001b[39m_ffi\u001b[39;00m\u001b[39m.\u001b[39;00m\u001b[39mbase\u001b[39;00m \u001b[39mimport\u001b[39;00m __version__, DGLError\n",
      "File \u001b[1;32md:\\environment\\conda-c\\envs\\PyTorch\\lib\\site-packages\\dgl\\backend\\__init__.py:122\u001b[0m\n\u001b[0;32m    118\u001b[0m         set_default_backend(default_dir, \u001b[39m\"\u001b[39m\u001b[39mpytorch\u001b[39m\u001b[39m\"\u001b[39m)\n\u001b[0;32m    119\u001b[0m         \u001b[39mreturn\u001b[39;00m \u001b[39m\"\u001b[39m\u001b[39mpytorch\u001b[39m\u001b[39m\"\u001b[39m\n\u001b[1;32m--> 122\u001b[0m load_backend(get_preferred_backend())\n\u001b[0;32m    125\u001b[0m \u001b[39mdef\u001b[39;00m \u001b[39mis_enabled\u001b[39m(api):\n\u001b[0;32m    126\u001b[0m \u001b[39m    \u001b[39m\u001b[39m\"\"\"Return true if the api is enabled by the current backend.\u001b[39;00m\n\u001b[0;32m    127\u001b[0m \n\u001b[0;32m    128\u001b[0m \u001b[39m    Parameters\u001b[39;00m\n\u001b[1;32m   (...)\u001b[0m\n\u001b[0;32m    136\u001b[0m \u001b[39m        True if the API is enabled by the current backend.\u001b[39;00m\n\u001b[0;32m    137\u001b[0m \u001b[39m    \"\"\"\u001b[39;00m\n",
      "File \u001b[1;32md:\\environment\\conda-c\\envs\\PyTorch\\lib\\site-packages\\dgl\\backend\\__init__.py:51\u001b[0m, in \u001b[0;36mload_backend\u001b[1;34m(mod_name)\u001b[0m\n\u001b[0;32m     48\u001b[0m \u001b[39melse\u001b[39;00m:\n\u001b[0;32m     49\u001b[0m     \u001b[39mraise\u001b[39;00m \u001b[39mNotImplementedError\u001b[39;00m(\u001b[39m\"\u001b[39m\u001b[39mUnsupported backend: \u001b[39m\u001b[39m%s\u001b[39;00m\u001b[39m\"\u001b[39m \u001b[39m%\u001b[39m mod_name)\n\u001b[1;32m---> 51\u001b[0m \u001b[39mfrom\u001b[39;00m \u001b[39m.\u001b[39;00m\u001b[39m.\u001b[39;00m\u001b[39m_ffi\u001b[39;00m\u001b[39m.\u001b[39;00m\u001b[39mbase\u001b[39;00m \u001b[39mimport\u001b[39;00m load_tensor_adapter  \u001b[39m# imports DGL C library\u001b[39;00m\n\u001b[0;32m     53\u001b[0m version \u001b[39m=\u001b[39m mod\u001b[39m.\u001b[39m__version__\n\u001b[0;32m     54\u001b[0m load_tensor_adapter(mod_name, version)\n",
      "File \u001b[1;32md:\\environment\\conda-c\\envs\\PyTorch\\lib\\site-packages\\dgl\\_ffi\\base.py:50\u001b[0m\n\u001b[0;32m     48\u001b[0m __version__ \u001b[39m=\u001b[39m libinfo\u001b[39m.\u001b[39m__version__\n\u001b[0;32m     49\u001b[0m \u001b[39m# library instance of nnvm\u001b[39;00m\n\u001b[1;32m---> 50\u001b[0m _LIB, _LIB_NAME, _DIR_NAME \u001b[39m=\u001b[39m _load_lib()\n\u001b[0;32m     52\u001b[0m \u001b[39m# The FFI mode of DGL\u001b[39;00m\n\u001b[0;32m     53\u001b[0m _FFI_MODE \u001b[39m=\u001b[39m os\u001b[39m.\u001b[39menviron\u001b[39m.\u001b[39mget(\u001b[39m\"\u001b[39m\u001b[39mDGL_FFI\u001b[39m\u001b[39m\"\u001b[39m, \u001b[39m\"\u001b[39m\u001b[39mauto\u001b[39m\u001b[39m\"\u001b[39m)\n",
      "File \u001b[1;32md:\\environment\\conda-c\\envs\\PyTorch\\lib\\site-packages\\dgl\\_ffi\\base.py:39\u001b[0m, in \u001b[0;36m_load_lib\u001b[1;34m()\u001b[0m\n\u001b[0;32m     37\u001b[0m \u001b[39m\u001b[39m\u001b[39m\"\"\"Load libary by searching possible path.\"\"\"\u001b[39;00m\n\u001b[0;32m     38\u001b[0m lib_path \u001b[39m=\u001b[39m libinfo\u001b[39m.\u001b[39mfind_lib_path()\n\u001b[1;32m---> 39\u001b[0m lib \u001b[39m=\u001b[39m ctypes\u001b[39m.\u001b[39;49mCDLL(lib_path[\u001b[39m0\u001b[39;49m])\n\u001b[0;32m     40\u001b[0m dirname \u001b[39m=\u001b[39m os\u001b[39m.\u001b[39mpath\u001b[39m.\u001b[39mdirname(lib_path[\u001b[39m0\u001b[39m])\n\u001b[0;32m     41\u001b[0m basename \u001b[39m=\u001b[39m os\u001b[39m.\u001b[39mpath\u001b[39m.\u001b[39mbasename(lib_path[\u001b[39m0\u001b[39m])\n",
      "File \u001b[1;32md:\\environment\\conda-c\\envs\\PyTorch\\lib\\ctypes\\__init__.py:373\u001b[0m, in \u001b[0;36mCDLL.__init__\u001b[1;34m(self, name, mode, handle, use_errno, use_last_error, winmode)\u001b[0m\n\u001b[0;32m    370\u001b[0m \u001b[39mself\u001b[39m\u001b[39m.\u001b[39m_FuncPtr \u001b[39m=\u001b[39m _FuncPtr\n\u001b[0;32m    372\u001b[0m \u001b[39mif\u001b[39;00m handle \u001b[39mis\u001b[39;00m \u001b[39mNone\u001b[39;00m:\n\u001b[1;32m--> 373\u001b[0m     \u001b[39mself\u001b[39m\u001b[39m.\u001b[39m_handle \u001b[39m=\u001b[39m _dlopen(\u001b[39mself\u001b[39;49m\u001b[39m.\u001b[39;49m_name, mode)\n\u001b[0;32m    374\u001b[0m \u001b[39melse\u001b[39;00m:\n\u001b[0;32m    375\u001b[0m     \u001b[39mself\u001b[39m\u001b[39m.\u001b[39m_handle \u001b[39m=\u001b[39m handle\n",
      "\u001b[1;31mFileNotFoundError\u001b[0m: Could not find module 'd:\\environment\\conda-c\\envs\\PyTorch\\lib\\site-packages\\dgl\\dgl.dll' (or one of its dependencies). Try using the full path with constructor syntax."
     ]
    }
   ],
   "source": [
    "import sys\n",
    "import dgl\n",
    "import dgl.function as fn\n",
    "import os\n",
    "import multiprocessing as mp\n",
    "from tqdm import tqdm\n",
    "import pdb\n",
    "import numpy as np\n",
    "import torch\n",
    "import torch.nn as nn\n",
    "import logging\n",
    "from utils.parser import parse_args\n",
    "from utils.dataloader import Dataloader\n",
    "from utils.utils import config, construct_negative_graph, choose_model, load_mf_model, NegativeGraph\n",
    "from utils.tester import Tester\n",
    "from models.sampler import NegativeSampler\n",
    "import wandb\n",
    "import math"
   ]
  },
  {
   "cell_type": "code",
   "execution_count": 20,
   "metadata": {},
   "outputs": [
    {
     "name": "stdout",
     "output_type": "stream",
     "text": [
      "[0.39, 0.19, 0.09, 0.09, 0.09, 0.09, 0.04, 0.04]\n"
     ]
    }
   ],
   "source": [
    "numbers=[8,4,2,2,2,2,1,1]\n",
    "square_sum=math.sqrt(sum(i**2 for i in numbers))\n",
    "numbers = [x / square_sum for x in numbers]\n",
    "\n",
    "ma=1.2*max(numbers)\n",
    "mi=0.3*min(numbers)\n",
    "\n",
    "result=[(x-mi) /(ma-mi) for x in numbers]\n",
    "\n",
    "\n",
    "result = [round(x / sum(result),2) for x in result]\n",
    "print(result)"
   ]
  },
  {
   "cell_type": "code",
   "execution_count": 16,
   "metadata": {},
   "outputs": [
    {
     "name": "stdout",
     "output_type": "stream",
     "text": [
      "[1.0, 0.585939221919969, 0.43381058801199746, 0.43381058801199746, 0.43381058801199746, 0.43381058801199746, 0.3685243405799671, 0.3685243405799671]\n"
     ]
    }
   ],
   "source": [
    "import math\n",
    "numbers=[8,4,2,2,2,2,1,1]\n",
    "square_sum=math.sqrt(sum(i**2 for i in numbers))\n",
    "numbers = [math.exp(x/square_sum) for x in numbers]\n",
    "ma=max(numbers)\n",
    "mi=0.4*min(numbers)\n",
    "result=[(x-mi) /(ma-mi) for x in numbers]\n",
    "print(result)\n"
   ]
  },
  {
   "cell_type": "code",
   "execution_count": 65,
   "metadata": {},
   "outputs": [
    {
     "data": {
      "text/plain": [
       "[4, 2, 2, 2, 2, 2, 1, 1]"
      ]
     },
     "execution_count": 65,
     "metadata": {},
     "output_type": "execute_result"
    }
   ],
   "source": [
    "result"
   ]
  },
  {
   "cell_type": "code",
   "execution_count": 2,
   "metadata": {},
   "outputs": [],
   "source": [
    "def pairwise_cosine_similarity(x, y, zero_diagonal: bool = False):\n",
    "    r\"\"\"\n",
    "    Calculates the pairwise cosine similarity matrix\n",
    "\n",
    "    Args:\n",
    "        x: tensor of shape ``(batch_size, M, d)``\n",
    "        y: tensor of shape ``(batch_size, N, d)``\n",
    "        zero_diagonal: determines if the diagonal of the distance matrix should be set to zero\n",
    "\n",
    "    Returns:\n",
    "        A tensor of shape ``(batch_size, M, N)``\n",
    "    \"\"\"\n",
    "    x_norm = torch.linalg.norm(x, dim=2, keepdim=True)\n",
    "    y_norm = torch.linalg.norm(y, dim=2, keepdim=True)\n",
    "    distance = torch.matmul(torch.div(x, x_norm), torch.div(y, y_norm).permute(0, 2, 1))\n",
    "    \n",
    "\n",
    "    return distance"
   ]
  },
  {
   "cell_type": "code",
   "execution_count": 3,
   "metadata": {},
   "outputs": [],
   "source": [
    "import torch\n",
    "x=torch.randn(23,48,32)\n",
    "y=x\n",
    "z=pairwise_cosine_similarity(x,y)"
   ]
  },
  {
   "cell_type": "code",
   "execution_count": 8,
   "metadata": {},
   "outputs": [
    {
     "name": "stdout",
     "output_type": "stream",
     "text": [
      "tensor([[[ 1.0000, -0.0261,  0.0632, -0.1281],\n",
      "         [-0.0261,  1.0000,  0.2065, -0.0501],\n",
      "         [ 0.0632,  0.2065,  1.0000,  0.1793],\n",
      "         [-0.1281, -0.0501,  0.1793,  1.0000]],\n",
      "\n",
      "        [[ 1.0000,  0.1538, -0.0039,  0.2631],\n",
      "         [ 0.1538,  1.0000,  0.2228,  0.0622],\n",
      "         [-0.0039,  0.2228,  1.0000,  0.1332],\n",
      "         [ 0.2631,  0.0622,  0.1332,  1.0000]]])\n",
      "tensor([[0.2273, 0.2826, 0.3623, 0.2503],\n",
      "        [0.3532, 0.3597, 0.3380, 0.3646]])\n"
     ]
    }
   ],
   "source": [
    "print(z)\n",
    "print(z.mean(dim=1))"
   ]
  },
  {
   "cell_type": "code",
   "execution_count": 16,
   "metadata": {},
   "outputs": [
    {
     "name": "stdout",
     "output_type": "stream",
     "text": [
      "torch.Size([2, 4, 4])\n",
      "tensor([[0.1581],\n",
      "        [0.2868]])\n",
      "tensor([[0.1371, 0.1553, 0.1830, 0.1571],\n",
      "        [0.2358, 0.3025, 0.3012, 0.3075]])\n"
     ]
    }
   ],
   "source": [
    "print(z.shape)\n",
    "print(z.mean(dim=2).mean(dim=1).unsqueeze(dim=1))\n",
    "print(z.mean(dim=2))"
   ]
  },
  {
   "cell_type": "code",
   "execution_count": 9,
   "metadata": {},
   "outputs": [
    {
     "name": "stdout",
     "output_type": "stream",
     "text": [
      "原始列表: [42, 17, 8, 99, 23]\n",
      "排序后的列表: [99, 42, 23, 17, 8]\n",
      "排序后的索引: [3, 0, 4, 1, 2]\n"
     ]
    }
   ],
   "source": [
    "original_list = [42, 17, 8, 99, 23]\n",
    "sorted_indices = sorted(range(len(original_list)), key=lambda i: original_list[i], reverse=True)\n",
    "sorted_list = [original_list[i] for i in sorted_indices]\n",
    "\n",
    "print(\"原始列表:\", original_list)\n",
    "print(\"排序后的列表:\", sorted_list)\n",
    "print(\"排序后的索引:\", sorted_indices)\n"
   ]
  }
 ],
 "metadata": {
  "kernelspec": {
   "display_name": "PyTorch",
   "language": "python",
   "name": "python3"
  },
  "language_info": {
   "codemirror_mode": {
    "name": "ipython",
    "version": 3
   },
   "file_extension": ".py",
   "mimetype": "text/x-python",
   "name": "python",
   "nbconvert_exporter": "python",
   "pygments_lexer": "ipython3",
   "version": "3.8.13"
  },
  "orig_nbformat": 4
 },
 "nbformat": 4,
 "nbformat_minor": 2
}
