{
 "cells": [
  {
   "cell_type": "code",
   "execution_count": 6,
   "metadata": {},
   "outputs": [
    {
     "name": "stdout",
     "output_type": "stream",
     "text": [
      "2.0.1\n",
      "0.15.2\n",
      "11.7\n",
      "True\n"
     ]
    }
   ],
   "source": [
    "import torch   #查看torch版本\n",
    "print(torch.__version__)  #注意是双下划线\n",
    "\n",
    "import torchvision  #查看torchvision版本\n",
    "print(torchvision.__version__)  #注意是双下划线\n",
    "\n",
    "print(torch.version.cuda)  #注意是双下划线\n",
    "\n",
    "print(torch.cuda.is_available())#如果cuda可用，则返回True"
   ]
  },
  {
   "cell_type": "code",
   "execution_count": 5,
   "metadata": {},
   "outputs": [
    {
     "name": "stdout",
     "output_type": "stream",
     "text": [
      "Graph(num_nodes=4, num_edges=4,\n",
      "      ndata_schemes={}\n",
      "      edata_schemes={})\n",
      "tensor([0, 1, 2, 3])\n",
      "(tensor([0, 0, 0, 1]), tensor([1, 2, 3, 3]))\n",
      "(tensor([0, 0, 0, 1]), tensor([1, 2, 3, 3]), tensor([0, 1, 2, 3]))\n"
     ]
    }
   ],
   "source": [
    "import dgl\n",
    "import torch as th\n",
    "# 边 0->1, 0->2, 0->3, 1->3\n",
    "u, v = th.tensor([0, 0, 0, 1]), th.tensor([1, 2, 3, 3])\n",
    "g = dgl.graph((u, v))\n",
    "print(g) # 图中节点的数量是DGL通过给定的图的边列表中最大的点ID推断所得出的\n",
    "# 获取节点的ID\n",
    "print(g.nodes())\n",
    "# 获取边的对应端点\n",
    "print(g.edges())\n",
    "# 获取边的对应端点和边ID\n",
    "print(g.edges(form='all'))"
   ]
  },
  {
   "cell_type": "code",
   "execution_count": 2,
   "metadata": {},
   "outputs": [
    {
     "name": "stdout",
     "output_type": "stream",
     "text": [
      "Collecting package metadata (current_repodata.json): ...working... done\n",
      "Solving environment: ...working... done\n",
      "\n",
      "## Package Plan ##\n",
      "\n",
      "  environment location: c:\\Users\\yuki_younai\\.conda\\envs\\PyTorch\n",
      "\n",
      "  added / updated specs:\n",
      "    - dgl\n",
      "\n",
      "\n",
      "The following packages will be downloaded:\n",
      "\n",
      "    package                    |            build\n",
      "    ---------------------------|-----------------\n",
      "    appdirs-1.4.4              |     pyhd3eb1b0_0          12 KB  defaults\n",
      "    dgl-1.1.0.cu117            |           py38_0        61.4 MB  dglteam/label/cu117\n",
      "    icc_rt-2022.1.0            |       h6049295_2         6.5 MB  defaults\n",
      "    pooch-1.4.0                |     pyhd3eb1b0_0          41 KB  defaults\n",
      "    scipy-1.10.1               |   py38hdcfc7df_1        18.7 MB  defaults\n",
      "    tqdm-4.65.0                |   py38hd4e2768_0         149 KB  defaults\n",
      "    ------------------------------------------------------------\n",
      "                                           Total:        86.8 MB\n",
      "\n",
      "The following NEW packages will be INSTALLED:\n",
      "\n",
      "  appdirs            anaconda/pkgs/main/noarch::appdirs-1.4.4-pyhd3eb1b0_0 \n",
      "  dgl                dglteam/label/cu117/win-64::dgl-1.1.0.cu117-py38_0 \n",
      "  icc_rt             anaconda/pkgs/main/win-64::icc_rt-2022.1.0-h6049295_2 \n",
      "  pooch              anaconda/pkgs/main/noarch::pooch-1.4.0-pyhd3eb1b0_0 \n",
      "  scipy              anaconda/pkgs/main/win-64::scipy-1.10.1-py38hdcfc7df_1 \n",
      "  tqdm               anaconda/pkgs/main/win-64::tqdm-4.65.0-py38hd4e2768_0 \n",
      "\n",
      "The following packages will be SUPERSEDED by a higher-priority channel:\n",
      "\n",
      "  certifi            conda-forge/noarch::certifi-2023.5.7-~ --> anaconda/pkgs/main/win-64::certifi-2023.5.7-py38haa95532_0 \n",
      "\n",
      "\n",
      "\n",
      "Downloading and Extracting Packages\n",
      "\n",
      "appdirs-1.4.4        | 12 KB     |            |   0% \n",
      "\n",
      "dgl-1.1.0.cu117      | 61.4 MB   |            |   0% \u001b[A\n",
      "\n",
      "\n",
      "scipy-1.10.1         | 18.7 MB   |            |   0% \u001b[A\u001b[A\n",
      "\n",
      "\n",
      "\n",
      "icc_rt-2022.1.0      | 6.5 MB    |            |   0% \u001b[A\u001b[A\u001b[A\n",
      "\n",
      "\n",
      "\n",
      "\n",
      "pooch-1.4.0          | 41 KB     |            |   0% \u001b[A\u001b[A\u001b[A\u001b[A\n",
      "\n",
      "\n",
      "\n",
      "\n",
      "\n",
      "tqdm-4.65.0          | 149 KB    |            |   0% \u001b[A\u001b[A\u001b[A\u001b[A\u001b[A\n",
      "appdirs-1.4.4        | 12 KB     | ########## | 100% \n",
      "appdirs-1.4.4        | 12 KB     | ########## | 100% \n",
      "\n",
      "\n",
      "scipy-1.10.1         | 18.7 MB   |            |   0% \u001b[A\u001b[A\n",
      "\n",
      "\n",
      "\n",
      "icc_rt-2022.1.0      | 6.5 MB    |            |   0% \u001b[A\u001b[A\u001b[A\n",
      "\n",
      "\n",
      "\n",
      "\n",
      "pooch-1.4.0          | 41 KB     | ###8       |  39% \u001b[A\u001b[A\u001b[A\u001b[A\n",
      "\n",
      "\n",
      "\n",
      "\n",
      "\n",
      "tqdm-4.65.0          | 149 KB    | #          |  11% \u001b[A\u001b[A\u001b[A\u001b[A\u001b[A\n",
      "\n",
      "\n",
      "\n",
      "\n",
      "pooch-1.4.0          | 41 KB     | ########## | 100% \u001b[A\u001b[A\u001b[A\u001b[A\n",
      "\n",
      "\n",
      "\n",
      "icc_rt-2022.1.0      | 6.5 MB    | 2          |   3% \u001b[A\u001b[A\u001b[A\n",
      "\n",
      "\n",
      "scipy-1.10.1         | 18.7 MB   | 1          |   1% \u001b[A\u001b[A\n",
      "\n",
      "\n",
      "scipy-1.10.1         | 18.7 MB   | 5          |   5% \u001b[A\u001b[A\n",
      "\n",
      "\n",
      "\n",
      "icc_rt-2022.1.0      | 6.5 MB    | #3         |  13% \u001b[A\u001b[A\u001b[A\n",
      "\n",
      "\n",
      "\n",
      "\n",
      "\n",
      "tqdm-4.65.0          | 149 KB    | ########## | 100% \u001b[A\u001b[A\u001b[A\u001b[A\u001b[A\n",
      "\n",
      "\n",
      "\n",
      "\n",
      "\n",
      "tqdm-4.65.0          | 149 KB    | ########## | 100% \u001b[A\u001b[A\u001b[A\u001b[A\u001b[A\n",
      "\n",
      "\n",
      "scipy-1.10.1         | 18.7 MB   | #          |  11% \u001b[A\u001b[A\n",
      "\n",
      "\n",
      "\n",
      "icc_rt-2022.1.0      | 6.5 MB    | ##1        |  21% \u001b[A\u001b[A\u001b[A\n",
      "\n",
      "\n",
      "scipy-1.10.1         | 18.7 MB   | #5         |  15% \u001b[A\u001b[A\n",
      "\n",
      "\n",
      "\n",
      "icc_rt-2022.1.0      | 6.5 MB    | ###1       |  32% \u001b[A\u001b[A\u001b[A\n",
      "\n",
      "\n",
      "scipy-1.10.1         | 18.7 MB   | #9         |  20% \u001b[A\u001b[A\n",
      "\n",
      "\n",
      "\n",
      "icc_rt-2022.1.0      | 6.5 MB    | ####2      |  42% \u001b[A\u001b[A\u001b[A\n",
      "\n",
      "\n",
      "scipy-1.10.1         | 18.7 MB   | ##3        |  24% \u001b[A\u001b[A\n",
      "\n",
      "\n",
      "\n",
      "icc_rt-2022.1.0      | 6.5 MB    | #####4     |  54% \u001b[A\u001b[A\u001b[A\n",
      "\n",
      "\n",
      "scipy-1.10.1         | 18.7 MB   | ##8        |  29% \u001b[A\u001b[A\n",
      "\n",
      "\n",
      "\n",
      "icc_rt-2022.1.0      | 6.5 MB    | ######3    |  64% \u001b[A\u001b[A\u001b[A\n",
      "\n",
      "\n",
      "scipy-1.10.1         | 18.7 MB   | ###3       |  33% \u001b[A\u001b[A\n",
      "\n",
      "\n",
      "\n",
      "icc_rt-2022.1.0      | 6.5 MB    | #######3   |  74% \u001b[A\u001b[A\u001b[A\n",
      "\n",
      "\n",
      "scipy-1.10.1         | 18.7 MB   | ###8       |  39% \u001b[A\u001b[A\n",
      "\n",
      "\n",
      "\n",
      "icc_rt-2022.1.0      | 6.5 MB    | ########4  |  84% \u001b[A\u001b[A\u001b[A\n",
      "\n",
      "\n",
      "scipy-1.10.1         | 18.7 MB   | ####3      |  44% \u001b[A\u001b[A\n",
      "\n",
      "\n",
      "\n",
      "icc_rt-2022.1.0      | 6.5 MB    | #########4 |  94% \u001b[A\u001b[A\u001b[A\n",
      "\n",
      "\n",
      "scipy-1.10.1         | 18.7 MB   | ####9      |  49% \u001b[A\u001b[A\n",
      "\n",
      "\n",
      "\n",
      "icc_rt-2022.1.0      | 6.5 MB    | ########## | 100% \u001b[A\u001b[A\u001b[A\n",
      "\n",
      "\n",
      "scipy-1.10.1         | 18.7 MB   | #####6     |  56% \u001b[A\u001b[A\n",
      "\n",
      "\n",
      "scipy-1.10.1         | 18.7 MB   | ######2    |  63% \u001b[A\u001b[A\n",
      "\n",
      "\n",
      "scipy-1.10.1         | 18.7 MB   | ######9    |  69% \u001b[A\u001b[A\n",
      "\n",
      "\n",
      "scipy-1.10.1         | 18.7 MB   | #######7   |  78% \u001b[A\u001b[A\n",
      "\n",
      "\n",
      "scipy-1.10.1         | 18.7 MB   | ########6  |  86% \u001b[A\u001b[A\n",
      "\n",
      "\n",
      "scipy-1.10.1         | 18.7 MB   | #########4 |  94% \u001b[A\u001b[A\n",
      "\n",
      "\n",
      "scipy-1.10.1         | 18.7 MB   | ########## | 100% \u001b[A\u001b[A\n",
      "\n",
      "dgl-1.1.0.cu117      | 61.4 MB   | ########## | 100% \u001b[A\n",
      "\n",
      "dgl-1.1.0.cu117      | 61.4 MB   | ########## | 100% \u001b[A\n",
      "                                                     \n",
      "\n",
      "\n",
      "                                                     \u001b[A\n",
      "\n",
      "\n",
      "                                                     \u001b[A\u001b[A\n",
      "\n",
      "\n",
      "\n",
      "                                                     \u001b[A\u001b[A\u001b[A\n",
      "\n",
      "\n",
      "\n",
      "\n",
      "                                                     \u001b[A\u001b[A\u001b[A\u001b[A\n",
      "\n",
      "\n",
      "\n",
      "\n",
      "\n",
      "                                                     \u001b[A\u001b[A\u001b[A\u001b[A\u001b[A\n",
      "\n",
      "Preparing transaction: ...working... done\n",
      "Verifying transaction: ...working... done\n",
      "Executing transaction: ...working... done\n",
      "\n",
      "Note: you may need to restart the kernel to use updated packages.\n"
     ]
    }
   ],
   "source": [
    "conda install -c dglteam/label/cu117 dgl"
   ]
  },
  {
   "cell_type": "code",
   "execution_count": 76,
   "metadata": {},
   "outputs": [
    {
     "ename": "TypeError",
     "evalue": "randint() received an invalid combination of arguments - got (int, list, type=type), but expected one of:\n * (int high, tuple of ints size, *, torch.Generator generator, Tensor out, torch.dtype dtype, torch.layout layout, torch.device device, bool requires_grad)\n * (int low, int high, tuple of ints size, *, torch.Generator generator, Tensor out, torch.dtype dtype, torch.layout layout, torch.device device, bool requires_grad)\n",
     "output_type": "error",
     "traceback": [
      "\u001b[1;31m---------------------------------------------------------------------------\u001b[0m",
      "\u001b[1;31mTypeError\u001b[0m                                 Traceback (most recent call last)",
      "Cell \u001b[1;32mIn[76], line 8\u001b[0m\n\u001b[0;32m      6\u001b[0m neighbor\u001b[39m=\u001b[39mtorch\u001b[39m.\u001b[39mzeros(\u001b[39m0\u001b[39m)\n\u001b[0;32m      7\u001b[0m \u001b[39mfor\u001b[39;00m i \u001b[39min\u001b[39;00m \u001b[39mrange\u001b[39m(batch_size):\n\u001b[1;32m----> 8\u001b[0m     item_select\u001b[39m=\u001b[39mtorch\u001b[39m.\u001b[39;49mrandint(neighbor_size,[\u001b[39m1\u001b[39;49m,\u001b[39m1\u001b[39;49m],\u001b[39mtype\u001b[39;49m\u001b[39m=\u001b[39;49m\u001b[39mint\u001b[39;49m)\n\u001b[0;32m      9\u001b[0m     \u001b[39mwhile\u001b[39;00m item_select\u001b[39m.\u001b[39mshape[\u001b[39m1\u001b[39m]\u001b[39m<\u001b[39m\u001b[39m20\u001b[39m:\n\u001b[0;32m     10\u001b[0m         item\u001b[39m=\u001b[39mtorch\u001b[39m.\u001b[39mrandint(neighbor_size,[\u001b[39m1\u001b[39m,\u001b[39m1\u001b[39m],\u001b[39mtype\u001b[39m\u001b[39m=\u001b[39m\u001b[39mint\u001b[39m)\n",
      "\u001b[1;31mTypeError\u001b[0m: randint() received an invalid combination of arguments - got (int, list, type=type), but expected one of:\n * (int high, tuple of ints size, *, torch.Generator generator, Tensor out, torch.dtype dtype, torch.layout layout, torch.device device, bool requires_grad)\n * (int low, int high, tuple of ints size, *, torch.Generator generator, Tensor out, torch.dtype dtype, torch.layout layout, torch.device device, bool requires_grad)\n"
     ]
    }
   ],
   "source": [
    "import numpy as np\n",
    "\n",
    "batch_size=32\n",
    "neighbor_size=40\n",
    "num=20\n",
    "neighbor=torch.randint(neighbor_size,[1,1])\n",
    "for i in range(batch_size):\n",
    "    item_select=torch.randint(neighbor_size,[1,1])\n",
    "    while item_select.shape[1]<20:\n",
    "        item=torch.randint(neighbor_size,[1,1])\n",
    "        while item in item_select:\n",
    "            item=torch.randint(neighbor_size,[1,1])\n",
    "        item_select=torch.cat([item_select,item],dim=1)\n",
    "    neighbor=torch.cat([neighbor,item_select],dim=0)\n",
    "\n",
    "    "
   ]
  },
  {
   "cell_type": "code",
   "execution_count": 77,
   "metadata": {},
   "outputs": [
    {
     "data": {
      "text/plain": [
       "9"
      ]
     },
     "execution_count": 77,
     "metadata": {},
     "output_type": "execute_result"
    }
   ],
   "source": [
    "int(torch.randint(neighbor_size,[1,1]))"
   ]
  },
  {
   "cell_type": "code",
   "execution_count": 69,
   "metadata": {},
   "outputs": [
    {
     "data": {
      "text/plain": [
       "tensor([[27]])"
      ]
     },
     "execution_count": 69,
     "metadata": {},
     "output_type": "execute_result"
    }
   ],
   "source": [
    "item"
   ]
  },
  {
   "cell_type": "code",
   "execution_count": 63,
   "metadata": {},
   "outputs": [
    {
     "ename": "ValueError",
     "evalue": "low >= high",
     "output_type": "error",
     "traceback": [
      "\u001b[1;31m---------------------------------------------------------------------------\u001b[0m",
      "\u001b[1;31mValueError\u001b[0m                                Traceback (most recent call last)",
      "Cell \u001b[1;32mIn[63], line 2\u001b[0m\n\u001b[0;32m      1\u001b[0m \u001b[39mimport\u001b[39;00m \u001b[39mnumpy\u001b[39;00m \u001b[39mas\u001b[39;00m \u001b[39mnp\u001b[39;00m\n\u001b[1;32m----> 2\u001b[0m np\u001b[39m.\u001b[39;49mrandom\u001b[39m.\u001b[39;49mrandint(\u001b[39m30\u001b[39;49m,[\u001b[39m1\u001b[39;49m])\n",
      "File \u001b[1;32mmtrand.pyx:763\u001b[0m, in \u001b[0;36mnumpy.random.mtrand.RandomState.randint\u001b[1;34m()\u001b[0m\n",
      "File \u001b[1;32m_bounded_integers.pyx:1353\u001b[0m, in \u001b[0;36mnumpy.random._bounded_integers._rand_int32\u001b[1;34m()\u001b[0m\n",
      "File \u001b[1;32m_bounded_integers.pyx:376\u001b[0m, in \u001b[0;36mnumpy.random._bounded_integers._rand_int32_broadcast\u001b[1;34m()\u001b[0m\n",
      "\u001b[1;31mValueError\u001b[0m: low >= high"
     ]
    }
   ],
   "source": [
    "import numpy as np\n",
    "np.random.randint(30,[1])"
   ]
  },
  {
   "cell_type": "code",
   "execution_count": 57,
   "metadata": {},
   "outputs": [
    {
     "data": {
      "text/plain": [
       "tensor([[2]])"
      ]
     },
     "execution_count": 57,
     "metadata": {},
     "output_type": "execute_result"
    }
   ],
   "source": [
    "item"
   ]
  },
  {
   "cell_type": "code",
   "execution_count": 34,
   "metadata": {},
   "outputs": [
    {
     "data": {
      "text/plain": [
       "tensor(31)"
      ]
     },
     "execution_count": 34,
     "metadata": {},
     "output_type": "execute_result"
    }
   ],
   "source": [
    "a=torch.tensor(31)\n",
    "a"
   ]
  },
  {
   "cell_type": "code",
   "execution_count": 35,
   "metadata": {},
   "outputs": [
    {
     "data": {
      "text/plain": [
       "True"
      ]
     },
     "execution_count": 35,
     "metadata": {},
     "output_type": "execute_result"
    }
   ],
   "source": [
    "a in item_select"
   ]
  }
 ],
 "metadata": {
  "kernelspec": {
   "display_name": "PyTorch",
   "language": "python",
   "name": "python3"
  },
  "language_info": {
   "codemirror_mode": {
    "name": "ipython",
    "version": 3
   },
   "file_extension": ".py",
   "mimetype": "text/x-python",
   "name": "python",
   "nbconvert_exporter": "python",
   "pygments_lexer": "ipython3",
   "version": "3.8.16"
  },
  "orig_nbformat": 4
 },
 "nbformat": 4,
 "nbformat_minor": 2
}
